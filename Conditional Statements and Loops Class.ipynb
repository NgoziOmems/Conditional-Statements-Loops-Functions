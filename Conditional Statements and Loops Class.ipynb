{
 "cells": [
  {
   "cell_type": "markdown",
   "id": "f63f3ac7",
   "metadata": {},
   "source": [
    "                             CONDITIONAL STATEMENTS IN PYTHON"
   ]
  },
  {
   "cell_type": "code",
   "execution_count": 22,
   "id": "c1e0f91e",
   "metadata": {},
   "outputs": [
    {
     "name": "stdout",
     "output_type": "stream",
     "text": [
      "What is your name? Ngozi\n",
      "How old are you? 28\n",
      "Hello Ngozi, You are 28 years old and eligible to drive\n"
     ]
    }
   ],
   "source": [
    "#These are mechanisms that enable python to execute block of codes or perform some actions if some conditions are met.  \n",
    "#The conditional statements in python are IF,ELIF,and ELSE statements\n",
    "#create a program to get a person's name and age to see if they are eligible to drive\n",
    "name=input('What is your name? ')\n",
    "age=int(input('How old are you? '))\n",
    "if age > 18:\n",
    "    print(f'Hello {name}, You are {age} years old and eligible to drive')\n",
    "else:\n",
    "    print(f'Hello {name}, You are {age} years old and as such, ineligible to drive')"
   ]
  },
  {
   "cell_type": "code",
   "execution_count": 3,
   "id": "b87a3fe1",
   "metadata": {
    "scrolled": true
   },
   "outputs": [
    {
     "name": "stdout",
     "output_type": "stream",
     "text": [
      "What is your name? Ngozi\n",
      "How old are you? 89\n",
      "Hello Ngozi, You are 89 years old and too old to drive\n"
     ]
    }
   ],
   "source": [
    "#We can include multiple conditions using elif statement\n",
    "name=input('What is your name? ')\n",
    "age=int(input('How old are you? '))\n",
    "if age >= 18 and age <= 40:\n",
    "    print(f'Hello {name}, You are {age} years old and eligible to drive')\n",
    "elif age > 40 and age <=60:\n",
    "    print(f'Hello {name}, You are {age} years old, you should be careful while driving')\n",
    "else:\n",
    "    print(f'Hello {name}, You are {age} years old and too old to drive')"
   ]
  },
  {
   "cell_type": "code",
   "execution_count": 11,
   "id": "2f0989aa",
   "metadata": {},
   "outputs": [
    {
     "name": "stdout",
     "output_type": "stream",
     "text": [
      "What is your name? Ngozi\n",
      "How old are you? 28\n",
      "How many children do you have? 2\n",
      "Hello Ngozi, You are 28 years old, you have 2 children, you can go for masters.\n"
     ]
    }
   ],
   "source": [
    "                                    #Nested If Statement\n",
    "#You can insert an if statement inside another if statement\n",
    "#Write a program to determine a person's school eligibility based on their age \n",
    "name=input('What is your name? ')\n",
    "age=int(input('How old are you? '))\n",
    "if age >=0 and age <=10:\n",
    "    print(f'Hello {name}, You are {age} years old and you should be in primary school.')\n",
    "elif age > 10 and age <= 18:\n",
    "    print(f'Hello {name}, You are {age} years old and you should be in senior secondary school.')\n",
    "elif age > 18 and age <= 23:\n",
    "    print(f'Hello {name}, You are {age} years old and you should be in higher institution.')\n",
    "elif age > 23 and age <= 30:                      #here we introduce the nested if statement.\n",
    "    children=int(input('How many children do you have? '))\n",
    "    if children > 3:\n",
    "        print(f'Hello {name}, You are {age} years old, you have {children} children, you should not go for masters.')\n",
    "    else:\n",
    "        print(f'Hello {name}, You are {age} years old, you have {children} children, you can go for masters.')\n",
    "else:\n",
    "    print(f'Hello {name}, You are {age} years old and you should go for your PHD.')                 \n",
    "        \n"
   ]
  },
  {
   "cell_type": "code",
   "execution_count": 19,
   "id": "08cbf0c2",
   "metadata": {},
   "outputs": [
    {
     "name": "stdout",
     "output_type": "stream",
     "text": [
      "What is your name? Ngozi\n",
      "How old are you? 80\n",
      "Do you have a driver? no\n",
      "Hello Ngozi, you are 80 years, you do not have a driver, you cannot drive\n"
     ]
    }
   ],
   "source": [
    "#Write a program that checks if one is eligible to drive, with other conditions within\n",
    "name=input('What is your name? ')\n",
    "age=int(input('How old are you? '))\n",
    "if age >=0 and age <18:\n",
    "    print(f'Hello {name}, You are {age} years old, you are too young to drive.')\n",
    "elif age >= 18 and age < 25:\n",
    "    print(f'Hello {name}, You are {age} years old, you are eligible to drive.')\n",
    "elif age >= 25 and age < 40:\n",
    "    print(f'Hello {name}, You are {age} years old, you should be careful while driving.')\n",
    "elif age >= 40 and age <=60:\n",
    "    learn = input('Have you relearnt how to drive? ')\n",
    "    if learn == 'yes':\n",
    "        print('You can drive')\n",
    "    else:\n",
    "        print('Go and relearn how to drive')\n",
    "else:\n",
    "    driver= input('Do you have a driver? ')\n",
    "    if driver == 'yes':\n",
    "        license= input('Does your driver have a license? ')\n",
    "        if license == 'yes':\n",
    "            print(f'Your driver has a licence,you can drive.')\n",
    "        else:\n",
    "            print(f'Hello {name}, you are {age} years,Your driver does not have a licence,you cannot drive')\n",
    "    else:\n",
    "        print(f'Hello {name}, you are {age} years, you do not have a driver, you cannot drive')\n"
   ]
  },
  {
   "cell_type": "markdown",
   "id": "0c35b326",
   "metadata": {},
   "source": [
    "                                   LOOPS IN PYTHON"
   ]
  },
  {
   "cell_type": "code",
   "execution_count": null,
   "id": "29ec0010",
   "metadata": {},
   "outputs": [],
   "source": [
    "#Loops are usually used to repeat a task or a sequence. They are used to automate tasks repeatitively.\n",
    "#This allows for multiple execution of block of codes\n",
    "#Loops are used to repeat a sequence of instructions untill a specific condition is met.\n",
    "#Python has 2 types of Loops: The FOR Loop and the WHILE Loop.\n",
    "#For Loop are used to iterate over a sequence(list,tuple,set,dictionary) of characters or data structures untill the defined\n",
    "#conditions are met.\n",
    "#while loop executes a code as long as certain defined conditions are true."
   ]
  },
  {
   "cell_type": "markdown",
   "id": "1701e235",
   "metadata": {},
   "source": [
    "                                     FOR LOOP"
   ]
  },
  {
   "cell_type": "code",
   "execution_count": 25,
   "id": "9ca2e705",
   "metadata": {},
   "outputs": [
    {
     "name": "stdout",
     "output_type": "stream",
     "text": [
      "0\n",
      "1\n",
      "2\n",
      "3\n",
      "4\n",
      "5\n",
      "6\n",
      "7\n",
      "8\n",
      "9\n"
     ]
    }
   ],
   "source": [
    "for i in range(10):     #i is serving as a variable,iterator, or placeholder.\n",
    "    print(i)"
   ]
  },
  {
   "cell_type": "code",
   "execution_count": 26,
   "id": "901e642d",
   "metadata": {},
   "outputs": [
    {
     "name": "stdout",
     "output_type": "stream",
     "text": [
      "0\n",
      "2\n",
      "4\n",
      "6\n",
      "8\n",
      "10\n",
      "12\n",
      "14\n",
      "16\n",
      "18\n",
      "20\n",
      "22\n",
      "24\n",
      "26\n",
      "28\n",
      "30\n",
      "32\n",
      "34\n",
      "36\n",
      "38\n",
      "40\n",
      "42\n",
      "44\n",
      "46\n",
      "48\n",
      "50\n",
      "52\n",
      "54\n",
      "56\n",
      "58\n",
      "60\n",
      "62\n",
      "64\n",
      "66\n",
      "68\n",
      "70\n",
      "72\n",
      "74\n",
      "76\n",
      "78\n",
      "80\n",
      "82\n",
      "84\n",
      "86\n",
      "88\n",
      "90\n",
      "92\n",
      "94\n",
      "96\n",
      "98\n"
     ]
    }
   ],
   "source": [
    "#for loop works with an inclusion operator ie in range()\n",
    "#Write even numbers ranging from 1 to 100 using the for loop\n",
    "for i in range(100):\n",
    "    if i % 2== 0:\n",
    "        print(i)\n"
   ]
  },
  {
   "cell_type": "code",
   "execution_count": 27,
   "id": "4842fa9c",
   "metadata": {},
   "outputs": [
    {
     "name": "stdout",
     "output_type": "stream",
     "text": [
      "0\n",
      "2\n",
      "4\n",
      "6\n",
      "8\n",
      "10\n",
      "12\n",
      "14\n",
      "16\n",
      "18\n",
      "20\n",
      "22\n",
      "24\n",
      "26\n",
      "28\n",
      "30\n",
      "32\n",
      "34\n",
      "36\n",
      "38\n",
      "40\n",
      "42\n",
      "44\n",
      "46\n",
      "48\n",
      "50\n",
      "52\n",
      "54\n",
      "56\n",
      "58\n",
      "60\n",
      "62\n",
      "64\n",
      "66\n",
      "68\n",
      "70\n",
      "72\n",
      "74\n",
      "76\n",
      "78\n",
      "80\n",
      "82\n",
      "84\n",
      "86\n",
      "88\n",
      "90\n",
      "92\n",
      "94\n",
      "96\n",
      "98\n"
     ]
    }
   ],
   "source": [
    "#the range() argument can take in up to arguments ie range(start,stop,increment)\n",
    "for i in range(0,100,2):\n",
    "    print(i)"
   ]
  },
  {
   "cell_type": "code",
   "execution_count": 35,
   "id": "275d6b1c",
   "metadata": {},
   "outputs": [],
   "source": [
    "#Applying For Loops in List\n",
    "f =[i for i in range(0,30,2)]"
   ]
  },
  {
   "cell_type": "code",
   "execution_count": 36,
   "id": "92bac707",
   "metadata": {},
   "outputs": [
    {
     "data": {
      "text/plain": [
       "[0, 2, 4, 6, 8, 10, 12, 14, 16, 18, 20, 22, 24, 26, 28]"
      ]
     },
     "execution_count": 36,
     "metadata": {},
     "output_type": "execute_result"
    }
   ],
   "source": [
    "f            #this is called list comprehension"
   ]
  },
  {
   "cell_type": "code",
   "execution_count": null,
   "id": "5195ba6b",
   "metadata": {},
   "outputs": [],
   "source": [
    "#To filter out the items in the f list and move even numbers less than 20 into a new list"
   ]
  },
  {
   "cell_type": "code",
   "execution_count": 38,
   "id": "100c3091",
   "metadata": {},
   "outputs": [],
   "source": [
    "new_list = []\n",
    "for i in f:\n",
    "    if i <= 20:\n",
    "        new_list.append(i)"
   ]
  },
  {
   "cell_type": "code",
   "execution_count": 39,
   "id": "368e6a6e",
   "metadata": {},
   "outputs": [
    {
     "data": {
      "text/plain": [
       "[0, 2, 4, 6, 8, 10, 12, 14, 16, 18, 20]"
      ]
     },
     "execution_count": 39,
     "metadata": {},
     "output_type": "execute_result"
    }
   ],
   "source": [
    "new_list"
   ]
  }
 ],
 "metadata": {
  "kernelspec": {
   "display_name": "Python 3 (ipykernel)",
   "language": "python",
   "name": "python3"
  },
  "language_info": {
   "codemirror_mode": {
    "name": "ipython",
    "version": 3
   },
   "file_extension": ".py",
   "mimetype": "text/x-python",
   "name": "python",
   "nbconvert_exporter": "python",
   "pygments_lexer": "ipython3",
   "version": "3.11.5"
  }
 },
 "nbformat": 4,
 "nbformat_minor": 5
}
