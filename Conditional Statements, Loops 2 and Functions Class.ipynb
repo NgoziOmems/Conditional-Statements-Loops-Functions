{
 "cells": [
  {
   "cell_type": "code",
   "execution_count": 1,
   "id": "dac978ed",
   "metadata": {},
   "outputs": [
    {
     "data": {
      "text/plain": [
       "[0, 2, 4, 6, 8, 10, 12, 14, 16, 18, 20, 22, 24, 26, 28]"
      ]
     },
     "execution_count": 1,
     "metadata": {},
     "output_type": "execute_result"
    }
   ],
   "source": [
    "#Control Statements in For Loops: Break and Continue Statements\n",
    "#Break Statements are used to stop the loop when a condition has been met example\n",
    "f =[i for i in range(0,30,2)] \n",
    "f"
   ]
  },
  {
   "cell_type": "code",
   "execution_count": 2,
   "id": "f9e7437f",
   "metadata": {},
   "outputs": [
    {
     "name": "stdout",
     "output_type": "stream",
     "text": [
      "0\n",
      "2\n",
      "4\n",
      "6\n",
      "8\n",
      "10\n",
      "12\n",
      "14\n",
      "16\n",
      "18\n"
     ]
    }
   ],
   "source": [
    "for i in f:\n",
    "    if i==20:\n",
    "        break\n",
    "    print(i)    "
   ]
  },
  {
   "cell_type": "code",
   "execution_count": 3,
   "id": "5e27bede",
   "metadata": {},
   "outputs": [
    {
     "data": {
      "text/plain": [
       "list"
      ]
     },
     "execution_count": 3,
     "metadata": {},
     "output_type": "execute_result"
    }
   ],
   "source": [
    "#Continue statement is used to tell a program to omit or skip an item example\n",
    "z=[0,2,4,6,8,10,12,14,16,18,20,22,24,26,28]\n",
    "type(z)"
   ]
  },
  {
   "cell_type": "code",
   "execution_count": 4,
   "id": "09278286",
   "metadata": {},
   "outputs": [
    {
     "name": "stdout",
     "output_type": "stream",
     "text": [
      "0\n",
      "2\n",
      "4\n",
      "6\n",
      "8\n",
      "10\n",
      "12\n",
      "14\n",
      "16\n",
      "18\n",
      "22\n",
      "24\n",
      "26\n",
      "28\n"
     ]
    }
   ],
   "source": [
    "for i in z:\n",
    "    if i==20:\n",
    "        continue #This tells the program to skip the item 20 on the list\n",
    "    print(i)    "
   ]
  },
  {
   "cell_type": "markdown",
   "id": "aba0711e",
   "metadata": {},
   "source": [
    "                                       #WHILE LOOP"
   ]
  },
  {
   "cell_type": "code",
   "execution_count": null,
   "id": "23a66c41",
   "metadata": {},
   "outputs": [],
   "source": [
    "#While loop executes a code as long as certain defined conditions are true.\n",
    "#It is important to set or specify a condition when using while loop to avoid an infinite loop where the code keeps running."
   ]
  },
  {
   "cell_type": "code",
   "execution_count": 1,
   "id": "4c7a377e",
   "metadata": {},
   "outputs": [
    {
     "name": "stdout",
     "output_type": "stream",
     "text": [
      "0\n",
      "2\n",
      "4\n",
      "6\n",
      "8\n",
      "10\n",
      "12\n",
      "14\n",
      "16\n",
      "18\n",
      "20\n"
     ]
    }
   ],
   "source": [
    "#To get the count of even numbers between 0 and 21 using while loop\n",
    "i=0\n",
    "while i < 21:\n",
    "    print(i)\n",
    "    i += 2"
   ]
  },
  {
   "cell_type": "code",
   "execution_count": 2,
   "id": "7d8e9dcb",
   "metadata": {},
   "outputs": [
    {
     "name": "stdout",
     "output_type": "stream",
     "text": [
      "0\n",
      "2\n",
      "4\n",
      "6\n",
      "8\n",
      "10\n",
      "12\n",
      "14\n",
      "16\n",
      "18\n",
      "20\n"
     ]
    }
   ],
   "source": [
    "i=0\n",
    "while i < 21:\n",
    "    if i % 2 == 0:\n",
    "        print(i)\n",
    "    i +=1    "
   ]
  },
  {
   "cell_type": "markdown",
   "id": "65cfe989",
   "metadata": {},
   "source": [
    "#                                             FUNCTIONS "
   ]
  },
  {
   "cell_type": "code",
   "execution_count": 4,
   "id": "4efd7fe8",
   "metadata": {},
   "outputs": [],
   "source": [
    "#Functions are group of codes written codes that prevent repetition and makes your code neater and less bulky\n",
    "#Functions are block of codes designed to perform a specific task\n",
    "#functions are used for code readability.\n",
    "#To create a function, use the keyword 'def'\n",
    "#To define a function called driving to insert the below block of code.\n",
    "\n",
    "def driving():\n",
    "    name=input('What is your name? ')\n",
    "    age=int(input('How old are you? '))\n",
    "    if age >=0 and age <18:\n",
    "        print(f'Hello {name}, You are {age} years old, you are too young to drive.')\n",
    "    elif age >= 18 and age < 25:\n",
    "        print(f'Hello {name}, You are {age} years old, you are eligible to drive.')\n",
    "    elif age >= 25 and age < 40:\n",
    "        print(f'Hello {name}, You are {age} years old, you should be careful while driving.')\n",
    "    elif age >= 40 and age <=60:\n",
    "        learn = input('Have you relearnt how to drive? ')\n",
    "        if learn == 'yes':\n",
    "            print('You can drive')\n",
    "        else:\n",
    "            print('Go and relearn how to drive')\n",
    "    else:\n",
    "        driver= input('Do you have a driver? ')\n",
    "        if driver == 'yes':\n",
    "            license= input('Does your driver have a license? ')\n",
    "            if license == 'yes':\n",
    "                print(f'Your driver has a licence,you can drive.')\n",
    "            else:\n",
    "                print(f'Hello {name}, you are {age} years,Your driver does not have a licence,you cannot drive')\n",
    "        else:\n",
    "            print(f'Hello {name}, you are {age} years, you do not have a driver, you cannot drive')\n"
   ]
  },
  {
   "cell_type": "code",
   "execution_count": 5,
   "id": "3937c2e7",
   "metadata": {},
   "outputs": [
    {
     "name": "stdout",
     "output_type": "stream",
     "text": [
      "What is your name? Ngozi\n",
      "How old are you? 45\n",
      "Have you relearnt how to drive? yes\n",
      "You can drive\n"
     ]
    }
   ],
   "source": [
    "driving()"
   ]
  },
  {
   "cell_type": "code",
   "execution_count": 6,
   "id": "c4063fbf",
   "metadata": {},
   "outputs": [],
   "source": [
    "#We have wrapped the above entire block of code into the function named driving().This way, instead of retyping the code block\n",
    "#We can just call up the entire block of code or the entire program using the function driving()\n",
    "#To write a program that adds up 2 numbers, defining a function named 'sum'\n",
    "#Everything written inside the function should be indented, do not move out of the indentation\n",
    "#When using function, it should return or print out a result to the screen \n",
    "#To achieve this, the keyword 'return' should be used.\n",
    "def sum():\n",
    "    x=9\n",
    "    y=10\n",
    "    result = x+y\n",
    "    return result"
   ]
  },
  {
   "cell_type": "code",
   "execution_count": 7,
   "id": "7525dae6",
   "metadata": {},
   "outputs": [
    {
     "data": {
      "text/plain": [
       "19"
      ]
     },
     "execution_count": 7,
     "metadata": {},
     "output_type": "execute_result"
    }
   ],
   "source": [
    "sum()"
   ]
  },
  {
   "cell_type": "code",
   "execution_count": 8,
   "id": "f0d807bc",
   "metadata": {},
   "outputs": [],
   "source": [
    "def addup():\n",
    "    a=2\n",
    "    b=3\n",
    "    c=9\n",
    "    d=5\n",
    "    result=a+b+c+d\n",
    "    return result"
   ]
  },
  {
   "cell_type": "code",
   "execution_count": 9,
   "id": "060325f7",
   "metadata": {},
   "outputs": [
    {
     "data": {
      "text/plain": [
       "19"
      ]
     },
     "execution_count": 9,
     "metadata": {},
     "output_type": "execute_result"
    }
   ],
   "source": [
    "addup()"
   ]
  },
  {
   "cell_type": "code",
   "execution_count": 12,
   "id": "dc9b4700",
   "metadata": {},
   "outputs": [],
   "source": [
    "#Functions can take in arguments example to define a function named 'dd'\n",
    "def dd(x,y):\n",
    "    return (x + y)"
   ]
  },
  {
   "cell_type": "code",
   "execution_count": 13,
   "id": "cf0761d6",
   "metadata": {},
   "outputs": [
    {
     "data": {
      "text/plain": [
       "11"
      ]
     },
     "execution_count": 13,
     "metadata": {},
     "output_type": "execute_result"
    }
   ],
   "source": [
    "dd(3,8)"
   ]
  },
  {
   "cell_type": "code",
   "execution_count": 14,
   "id": "2ed25a41",
   "metadata": {},
   "outputs": [],
   "source": [
    "def multiply(a,b,c):\n",
    "    return (a + b**c)"
   ]
  },
  {
   "cell_type": "code",
   "execution_count": 15,
   "id": "11c8d9f4",
   "metadata": {},
   "outputs": [
    {
     "data": {
      "text/plain": [
       "19"
      ]
     },
     "execution_count": 15,
     "metadata": {},
     "output_type": "execute_result"
    }
   ],
   "source": [
    "multiply(10,3,2)"
   ]
  },
  {
   "cell_type": "code",
   "execution_count": 2,
   "id": "50388a45",
   "metadata": {},
   "outputs": [],
   "source": [
    "#To write a function that will calculate the area of a circle which is pi*r**2\n",
    "def area(r,pi = 3.142):  #if you have initialized an item, you must not include it when calling the defined function\n",
    "    return (pi * r**2)"
   ]
  },
  {
   "cell_type": "code",
   "execution_count": 3,
   "id": "35702119",
   "metadata": {},
   "outputs": [
    {
     "data": {
      "text/plain": [
       "153.958"
      ]
     },
     "execution_count": 3,
     "metadata": {},
     "output_type": "execute_result"
    }
   ],
   "source": [
    "area(7)   #because we initialized pi, you do not need to include it when calling the defined function 'area'\n"
   ]
  },
  {
   "cell_type": "markdown",
   "id": "ace62231",
   "metadata": {},
   "source": [
    "       OR"
   ]
  },
  {
   "cell_type": "code",
   "execution_count": 38,
   "id": "99abf960",
   "metadata": {},
   "outputs": [],
   "source": [
    "def area(r,pi):\n",
    "    return (r**2 * pi)\n"
   ]
  },
  {
   "cell_type": "code",
   "execution_count": 40,
   "id": "4ebfba46",
   "metadata": {},
   "outputs": [
    {
     "data": {
      "text/plain": [
       "78.55"
      ]
     },
     "execution_count": 40,
     "metadata": {},
     "output_type": "execute_result"
    }
   ],
   "source": [
    "area(5,3.142)"
   ]
  },
  {
   "cell_type": "code",
   "execution_count": 42,
   "id": "c8a9c893",
   "metadata": {},
   "outputs": [],
   "source": [
    "#When defining functions, the instantiated item should come after and not before the unknown, the unknown must come first\n",
    "#Hence in the above example, r should come before pi=3. \n",
    "\n",
    "def area(r,pi=3.142): \n",
    "    print(f'The area of the circle is {r**2 * pi}')"
   ]
  },
  {
   "cell_type": "code",
   "execution_count": 43,
   "id": "d9a88a92",
   "metadata": {},
   "outputs": [
    {
     "name": "stdout",
     "output_type": "stream",
     "text": [
      "The area of the circle is 50.272\n"
     ]
    }
   ],
   "source": [
    "area(4)                     "
   ]
  },
  {
   "cell_type": "markdown",
   "id": "0911ff1e",
   "metadata": {},
   "source": [
    "     MORE EXAMPLES"
   ]
  },
  {
   "cell_type": "code",
   "execution_count": null,
   "id": "e83d62d7",
   "metadata": {},
   "outputs": [],
   "source": []
  }
 ],
 "metadata": {
  "kernelspec": {
   "display_name": "Python 3 (ipykernel)",
   "language": "python",
   "name": "python3"
  },
  "language_info": {
   "codemirror_mode": {
    "name": "ipython",
    "version": 3
   },
   "file_extension": ".py",
   "mimetype": "text/x-python",
   "name": "python",
   "nbconvert_exporter": "python",
   "pygments_lexer": "ipython3",
   "version": "3.11.5"
  }
 },
 "nbformat": 4,
 "nbformat_minor": 5
}
